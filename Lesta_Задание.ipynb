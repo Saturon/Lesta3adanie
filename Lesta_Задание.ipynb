{
  "nbformat": 4,
  "nbformat_minor": 0,
  "metadata": {
    "colab": {
      "name": "Lesta Задание.ipynb",
      "provenance": []
    },
    "kernelspec": {
      "name": "python3",
      "display_name": "Python 3"
    },
    "language_info": {
      "name": "python"
    }
  },
  "cells": [
    {
      "cell_type": "markdown",
      "source": [
        "Задание:\n",
        "\n",
        "1. На языке Python реализовать алгоритм (функцию) определения четности целого числа, который будет аналогичен нижеприведенному по функциональности, но отличен по своей сути. Объяснить плюсы и минусы обеих реализаций.\n",
        "\n",
        "                Python example:\n",
        "\n",
        "                def isEven(value):return value%2==0\n",
        "\n",
        "2. На языке Python (2.7) реализовать минимум по 2 класса реализовывающих циклический буфер FIFO. Объяснить плюсы и минусы каждой реализации.\n",
        "\n",
        "3. На языке Python реализовать функцию, которая быстрее всего (по процессорным тикам) отсортирует данный ей массив чисел. Массив может быть любого размера со случайным порядком чисел (в том числе и отсортированным). Объяснить почему вы считаете, что функция соответствует заданным критериям."
      ],
      "metadata": {
        "id": "b5Y8Zq7Xkf75"
      }
    },
    {
      "cell_type": "code",
      "source": [
        "import math\n",
        "from random import randint\n",
        "from timeit import repeat"
      ],
      "metadata": {
        "id": "gvrjVxYGlP_z"
      },
      "execution_count": 2,
      "outputs": []
    },
    {
      "cell_type": "markdown",
      "source": [
        "### 1 Задание"
      ],
      "metadata": {
        "id": "DlMLXnJOkkXs"
      }
    },
    {
      "cell_type": "code",
      "execution_count": 3,
      "metadata": {
        "id": "7Ir1zWEPkX72"
      },
      "outputs": [],
      "source": [
        "def isEven(value):return value%2==0"
      ]
    },
    {
      "cell_type": "code",
      "source": [
        "def isEven2(value):return math.fmod(value,2)==0"
      ],
      "metadata": {
        "id": "dGpbgkkFm7J1"
      },
      "execution_count": 13,
      "outputs": []
    },
    {
      "cell_type": "code",
      "source": [
        "x = 13\n",
        "print(isEven2(x), ' ',  math.fmod(x,2))\n",
        "print(isEven(x), ' ',  x%2)\n",
        "x = -13\n",
        "print(isEven2(x), ' ',  math.fmod(x,2))\n",
        "print(isEven(x), ' ',  x%2)\n",
        "x = -13000\n",
        "print(isEven2(x), ' ',  math.fmod(x,2))\n",
        "print(isEven(x), ' ',  x%2)"
      ],
      "metadata": {
        "colab": {
          "base_uri": "https://localhost:8080/"
        },
        "id": "CFadhzE3kyks",
        "outputId": "61787d60-e5e3-4fd6-fad2-84d157ae1661"
      },
      "execution_count": 15,
      "outputs": [
        {
          "output_type": "stream",
          "name": "stdout",
          "text": [
            "False   1.0\n",
            "False   1\n",
            "False   -1.0\n",
            "False   1\n",
            "True   -0.0\n",
            "True   0\n"
          ]
        }
      ]
    },
    {
      "cell_type": "markdown",
      "source": [
        "Разница в том, что фмод видит отрицательные числа и номера плавающих точек"
      ],
      "metadata": {
        "id": "YVYlSe3snPdJ"
      }
    },
    {
      "cell_type": "markdown",
      "source": [
        "### 2 Задание"
      ],
      "metadata": {
        "id": "U3ZqwZymknnV"
      }
    },
    {
      "cell_type": "code",
      "source": [
        "#Обычный Фифо\n",
        "queue = []\n",
        "queue.append(\"1111\")\n",
        "queue.append(\"222\")\n",
        "queue.append(\"3333333\")\n",
        "print(queue.pop(0))\n",
        "print(queue.pop(0))\n",
        "print(queue.pop(0))"
      ],
      "metadata": {
        "colab": {
          "base_uri": "https://localhost:8080/"
        },
        "id": "jlI0Amfun-eR",
        "outputId": "4db348ba-82c2-497b-84db-e1a9ba77c981"
      },
      "execution_count": 19,
      "outputs": [
        {
          "output_type": "stream",
          "name": "stdout",
          "text": [
            "1111\n",
            "222\n",
            "3333333\n"
          ]
        }
      ]
    },
    {
      "cell_type": "code",
      "source": [
        "#Классовый фифо\n",
        "class FIFO:\n",
        "    def __init__(self):\n",
        "        self.FIFO = []\n",
        "    def enFIFO(self, x):\n",
        "        return self.FIFO.insert(0, x)\n",
        "    def deFIFO(self):\n",
        "        return self.FIFO.pop()\n",
        "    def isEmpty(self):\n",
        "        return len(self.FIFO) == 0\n",
        "    def front(self):\n",
        "        return self.FIFO[-1]\n",
        "    def back(self):\n",
        "        return self.FIFO[0]"
      ],
      "metadata": {
        "id": "q1j0fJLwogoR"
      },
      "execution_count": 26,
      "outputs": []
    },
    {
      "cell_type": "code",
      "source": [
        "nameFIFO = FIFO()\n",
        "nameFIFO.enFIFO(\"1111\")\n",
        "nameFIFO.enFIFO(\"222\")\n",
        "nameFIFO.enFIFO(\"3333333\")\n",
        "print(\"Первый \", nameFIFO.front())\n",
        "print(\"Последний \", nameFIFO.back())\n",
        "print(\"Вывод \", nameFIFO.deFIFO())\n",
        "print(\"Вывод \", nameFIFO.deFIFO())\n",
        "print(\"Вывод \", nameFIFO.deFIFO())"
      ],
      "metadata": {
        "colab": {
          "base_uri": "https://localhost:8080/"
        },
        "id": "tubIduxNpFl6",
        "outputId": "750f1d7d-be2b-44b1-b1a2-646c3f159a59"
      },
      "execution_count": 32,
      "outputs": [
        {
          "output_type": "stream",
          "name": "stdout",
          "text": [
            "Первый  1111\n",
            "Последний  3333333\n",
            "Вывод  1111\n",
            "Вывод  222\n",
            "Вывод  3333333\n"
          ]
        }
      ]
    },
    {
      "cell_type": "markdown",
      "source": [
        "Я не знаю как реализовать другой ФИФО без указателей. (как в C++)"
      ],
      "metadata": {
        "id": "m2kFDZ7zvGW2"
      }
    },
    {
      "cell_type": "markdown",
      "source": [
        "### 3 Задание"
      ],
      "metadata": {
        "id": "RI0EUTBakphs"
      }
    },
    {
      "cell_type": "code",
      "source": [
        "def run_algo(algorithm, array):\n",
        "    setup_code = f\"from __main__ import {algorithm}\" \\\n",
        "        if algorithm != \"sorted\" else \"\"\n",
        "    stmt = f\"{algorithm}({array})\"\n",
        "    times = repeat(setup=setup_code, stmt=stmt, repeat=3, number=10)\n",
        "    print(f\"Алгоритм: {algorithm}. Время исполнения: {min(times)}\")"
      ],
      "metadata": {
        "id": "030T18Ukn-zz"
      },
      "execution_count": 57,
      "outputs": []
    },
    {
      "cell_type": "code",
      "source": [
        "def insertion_sort(array):\n",
        "    for i in range(1, len(array)):\n",
        "        key_item = array[i]\n",
        "        j = i - 1\n",
        "        while j >= 0 and array[j] > key_item:\n",
        "            array[j + 1] = array[j]\n",
        "            j -= 1\n",
        "        array[j + 1] = key_item\n",
        "\n",
        "    return array"
      ],
      "metadata": {
        "id": "vHkXeapOxgr5"
      },
      "execution_count": 54,
      "outputs": []
    },
    {
      "cell_type": "code",
      "source": [
        "def quicksort(array):\n",
        "    if len(array) < 2:\n",
        "        return array\n",
        "\n",
        "    low, same, high = [], [], []\n",
        "    pivot = array[randint(0, len(array) - 1)]\n",
        "\n",
        "    for item in array:\n",
        "        if item < pivot:\n",
        "            low.append(item)\n",
        "        elif item == pivot:\n",
        "            same.append(item)\n",
        "        elif item > pivot:\n",
        "            high.append(item)\n",
        "\n",
        "    return quicksort(low) + same + quicksort(high)"
      ],
      "metadata": {
        "id": "oKPbgWmLxqkr"
      },
      "execution_count": 55,
      "outputs": []
    },
    {
      "cell_type": "code",
      "source": [
        "LENGTH = 10000\n",
        "array = [randint(0, 1000) for i in range(LENGTH)]\n",
        "run_algo(\"sorted\", array)\n",
        "\n",
        "array2 = [randint(0, 1000) for i in range(LENGTH)]\n",
        "run_algo(\"insertion_sort\", array2)\n",
        "\n",
        "array3 = [randint(0, 1000) for i in range(LENGTH)]\n",
        "run_algo(\"quicksort\", array3)"
      ],
      "metadata": {
        "colab": {
          "base_uri": "https://localhost:8080/"
        },
        "id": "ffFKjjHKw6t2",
        "outputId": "94b4d528-28e9-4fab-8510-c211219e5490"
      },
      "execution_count": 58,
      "outputs": [
        {
          "output_type": "stream",
          "name": "stdout",
          "text": [
            "Алгоритм: sorted. Время исполнения: 0.011266868999882718\n",
            "Алгоритм: insertion_sort. Время исполнения: 34.70945680500063\n",
            "Алгоритм: quicksort. Время исполнения: 0.1404995279999639\n"
          ]
        }
      ]
    },
    {
      "cell_type": "markdown",
      "source": [
        "Базовый алгоритм сортировки показал себя лучше других. \n",
        "\n",
        "Сложность Пузырькового алгоритма O(n2), однако он будет очень неэффективно проходится по массиву, так что я не стал его делать. \n",
        "\n",
        "Сортировка вставкой имеет в худшем случае O(n2) и в лучшем O(n).\n",
        "\n",
        "Сортировка объединением заставила бы меня делить массив на части и потом объединять их. Что не эффективно для данной задачи. Я думаю его стоит использовать, когда данные только попадают к нам, а не после формирования итогового массива. \n",
        "\n",
        "Квиксорт так как меньше других бегает по массиву. O(n log2n)\n",
        "\n",
        "В итоге, по моему мнению, лучший сорт это базовый. А на втором месте Квиксорт. "
      ],
      "metadata": {
        "id": "JZA2-NVp2g_G"
      }
    }
  ]
}